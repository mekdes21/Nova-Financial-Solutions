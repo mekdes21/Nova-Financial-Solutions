{
 "cells": [
  {
   "cell_type": "code",
   "execution_count": 35,
   "metadata": {},
   "outputs": [],
   "source": [
    "import sys\n",
    "import os\n",
    "import pandas as pd\n",
    "import matplotlib.pyplot as plt\n",
    "import seaborn as sns\n",
    "# Add the src directory to the system path for importing modules\n",
    "sys.path.append(os.path.abspath('C:/Users/Hp/Nova-Financial-Solutions/src'))\n"
   ]
  },
  {
   "cell_type": "code",
   "execution_count": 36,
   "metadata": {},
   "outputs": [],
   "source": [
    "# Import necessary functions\n",
    "from data_preprocessing import load_and_preprocess\n",
    "from sentiment_analysis import perform_sentiment_analysis\n",
    "from correlation_analysis import compute_daily_returns, calculate_correlation"
   ]
  },
  {
   "cell_type": "code",
   "execution_count": 51,
   "metadata": {},
   "outputs": [],
   "source": [
    "# Paths to the data\n",
    "news_file_path = 'C:/Users/Hp/Nova-Financial-Solutions/raw_data/raw_analyst_ratings.csv'\n",
    "stock_folder_path = 'C:/Users/Hp/Nova-Financial-Solutions/raw_data/yfinance_data/'"
   ]
  },
  {
   "cell_type": "code",
   "execution_count": 52,
   "metadata": {},
   "outputs": [
    {
     "name": "stdout",
     "output_type": "stream",
     "text": [
      "Loading news data...\n",
      "Dropping 0 rows with invalid dates.\n",
      "News data loaded and preprocessed successfully!\n",
      "Loading stock data...\n",
      "Loading stock data for AAPL_historical_data...\n",
      "Loaded stock data for AAPL_historical_data\n",
      "Loading stock data for AMZN_historical_data...\n",
      "Loaded stock data for AMZN_historical_data\n",
      "Loading stock data for GOOG_historical_data...\n",
      "Loaded stock data for GOOG_historical_data\n",
      "Loading stock data for META_historical_data...\n",
      "Loaded stock data for META_historical_data\n",
      "Loading stock data for MSFT_historical_data...\n",
      "Loaded stock data for MSFT_historical_data\n",
      "Loading stock data for NVDA_historical_data...\n",
      "Loaded stock data for NVDA_historical_data\n",
      "Loading stock data for TSLA_historical_data...\n",
      "Loaded stock data for TSLA_historical_data\n",
      "Stock data loaded and preprocessed successfully!\n"
     ]
    }
   ],
   "source": [
    "# Load and preprocess data\n",
    "news_data, stock_data = load_and_preprocess(news_file_path, stock_folder_path)"
   ]
  },
  {
   "cell_type": "code",
   "execution_count": 53,
   "metadata": {},
   "outputs": [],
   "source": [
    "# Perform sentiment analysis\n",
    "news_data = perform_sentiment_analysis(news_data)\n"
   ]
  },
  {
   "cell_type": "code",
   "execution_count": 54,
   "metadata": {},
   "outputs": [],
   "source": [
    "# Compute daily returns for stock data\n",
    "stock_data = compute_daily_returns(stock_data)\n"
   ]
  },
  {
   "cell_type": "code",
   "execution_count": 55,
   "metadata": {},
   "outputs": [
    {
     "name": "stdout",
     "output_type": "stream",
     "text": [
      "Correlation between sentiment and stock returns for AAPL_historical_data: 0.1479339343702763\n",
      "Correlation between sentiment and stock returns for AMZN_historical_data: 0.08275971414149706\n",
      "Correlation between sentiment and stock returns for GOOG_historical_data: 0.12789274172793888\n",
      "Correlation between sentiment and stock returns for META_historical_data: 0.16373328268325427\n",
      "Correlation between sentiment and stock returns for MSFT_historical_data: 0.12332887468148432\n",
      "Correlation between sentiment and stock returns for NVDA_historical_data: 0.11654793923063647\n",
      "Correlation between sentiment and stock returns for TSLA_historical_data: 0.11833782519811006\n"
     ]
    }
   ],
   "source": [
    "# Calculate correlations\n",
    "correlations = calculate_correlation(news_data, stock_data)\n",
    "\n",
    "# Print correlation results\n",
    "for stock_ticker, correlation in correlations.items():\n",
    "    print(f\"Correlation between sentiment and stock returns for {stock_ticker}: {correlation}\")"
   ]
  },
  {
   "cell_type": "code",
   "execution_count": null,
   "metadata": {},
   "outputs": [],
   "source": [
    "from src.correlation_analysis import visualize_correlation\n",
    "\n",
    "# Example usage\n",
    "visualize_correlation(final_data)\n"
   ]
  }
 ],
 "metadata": {
  "kernelspec": {
   "display_name": "venv",
   "language": "python",
   "name": "python3"
  },
  "language_info": {
   "codemirror_mode": {
    "name": "ipython",
    "version": 3
   },
   "file_extension": ".py",
   "mimetype": "text/x-python",
   "name": "python",
   "nbconvert_exporter": "python",
   "pygments_lexer": "ipython3",
   "version": "3.12.8"
  }
 },
 "nbformat": 4,
 "nbformat_minor": 2
}
